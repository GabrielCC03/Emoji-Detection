{
  "nbformat": 4,
  "nbformat_minor": 0,
  "metadata": {
    "colab": {
      "provenance": [],
      "toc_visible": true
    },
    "kernelspec": {
      "name": "python3",
      "display_name": "Python 3"
    },
    "language_info": {
      "name": "python"
    }
  },
  "cells": [
    {
      "cell_type": "code",
      "execution_count": 1,
      "metadata": {
        "id": "QffIn7TbrTAQ",
        "colab": {
          "base_uri": "https://localhost:8080/"
        },
        "outputId": "941e5286-f7c9-4780-de25-a22e49da4bb0"
      },
      "outputs": [
        {
          "output_type": "stream",
          "name": "stdout",
          "text": [
            "Mounted at /content/drive\n"
          ]
        }
      ],
      "source": [
        "import numpy as np\n",
        "from sklearn.model_selection import train_test_split, GridSearchCV, KFold\n",
        "from sklearn.svm import SVC\n",
        "from sklearn.metrics import accuracy_score\n",
        "from PIL import Image, ImageFont, ImageDraw\n",
        "import cv2\n",
        "import os\n",
        "from collections import namedtuple\n",
        "from matplotlib import pyplot as plt\n",
        "from skimage.feature import hog\n",
        "from sklearn.manifold import TSNE\n",
        "import seaborn as sns\n",
        "from sklearn.metrics import accuracy_score\n",
        "from google.colab import drive\n",
        "from google.colab.patches import cv2_imshow\n",
        "from skimage.feature import hog\n",
        "from sklearn.preprocessing import LabelEncoder\n",
        "from sklearn.cluster import KMeans\n",
        "\n",
        "\n",
        "drive.mount('/content/drive')\n",
        "os.chdir('/content/drive/MyDrive/CVA1')\n",
        "\n",
        "# !pwd\n",
        "if os.path.isfile('NotoColorEmoji.ttf'):\n",
        "  print(\"Mounted successfully\")\n"
      ]
    },
    {
      "cell_type": "markdown",
      "source": [
        "# Convert Unicode Emoji to binary image"
      ],
      "metadata": {
        "id": "9mScx7kL5QJY"
      }
    },
    {
      "cell_type": "code",
      "source": [
        "def emoji_to_image(emoji: str, size: int = 64) -> np.ndarray:\n",
        "\n",
        "    # For using with cv2 as np.array is returned\n",
        "\n",
        "    image = Image.new(\"L\", (80,80), (255))\n",
        "\n",
        "    # Path to color emoji font: Noto_Emoji/NotoColorEmoji.ttf -  Path for not colored: Noto_Emoji/NotoEmoji.ttf\n",
        "    font = ImageFont.truetype(\"Noto_Emoji/NotoEmoji.ttf\", 64, encoding='unic')\n",
        "\n",
        "    draw = ImageDraw.Draw(image)\n",
        "    draw.textbbox(xy=[0,0], text=emoji, font=font)\n",
        "    draw.text((0, 0), emoji, fill=(0), font=font)\n",
        "    return np.array(image)"
      ],
      "metadata": {
        "id": "JA12-buX7XxX"
      },
      "execution_count": 2,
      "outputs": []
    },
    {
      "cell_type": "markdown",
      "source": [
        "# Task 1\n",
        "Collect emojis, including those created by Emoji Kitchen, to extend\n",
        "the reference dataset, convert the emojis to images, and categorize emojis by\n",
        "emotions, species, etc., into about 20-30 categories. (10 marks)"
      ],
      "metadata": {
        "id": "mi_df27Z-CkY"
      }
    },
    {
      "cell_type": "markdown",
      "source": [
        "## Dataset\n",
        "emoji_categories = {\n",
        "    'smiling': ['😀', '😃', '😄', '😁', '😆'],\n",
        "    'affectionate': ['🥰', '😍', '🤩', '😘', '😚'],\n",
        "    'tongue': ['😋', '😛', '😜', '🤪', '😝'],\n",
        "    'hands': ['🤗', '🤭', '🫢', '🫣', '🤫'],\n",
        "    'neutral': ['🙃', '🫠', '🤐', '🤨', '😐'],\n",
        "    'skeptical': ['😒', '🙄', '😬', '😮‍💨', '🤥'],\n",
        "    'sleepy': ['😌', '😔', '😪', '😴'],\n",
        "    'unwell': ['😷', '🤒', '🤕', '🤢', '🤮'],\n",
        "    'joy': ['😈', '👿', '🤡', '👻', '👽'],\n",
        "    'doctor': ['🧑‍⚕️', '👨‍⚕️', '👩‍⚕️'],\n",
        "    'student': ['🧑‍🎓', '👨‍🎓', '👩‍🎓'],\n",
        "    'farmer': ['🧑‍🌾', '👨‍🌾', '👩‍🌾'],\n",
        "    'cook':['🧑‍🍳', '👨‍🍳', '👩‍🍳'],\n",
        "    'fruit': ['🍇', '🍈', '🍉', '🍊', '🍋'],\n",
        "    'vegetable': ['🍆', '🥔', '🥕', '🌽', '🌶️'],\n",
        "    'dessert': ['🍦', '🍧', '🍨', '🍩', '🍪', '🎂'],\n",
        "    'drink': ['🍾', '🍷', '🍺', '🍻', '🥂', '🥃'],\n",
        "    'award': ['🎖️', '🏆', '🏅', '🥇', '🥈', '🥉'],\n",
        "    'geography': ['🌍', '🌎', '🌏', '🏔️', '⛰️', '🌋']\n",
        "  }"
      ],
      "metadata": {
        "id": "synfOXSD8xOk"
      }
    },
    {
      "cell_type": "code",
      "source": [
        "# windows + . to get emojis\n",
        "# Sample of emoji categories\n",
        "emoji_train = {\n",
        "    'happy': ['😀', '😃', '😁', '😆','😊','😇','😏','😉'],\n",
        "    'angry': ['🤬', '👿', '😤'],\n",
        "    'disgust': ['🤢','🥴','😒','🫤'],\n",
        "    'fear': ['😨', '😱', '😰', '😖', '😫'],\n",
        "    'neutral': ['🤐','😶','🫥','😑'],\n",
        "    'sad': ['😢', '😔', '😟','🥺','😓'],\n",
        "    'surprise': ['😮', '😲', '😳', '🙀','😦','😧','🤷'],\n",
        "    'affectionate': ['🥰', '🤩', '😘', '😚','🩷','💓','💞','💋'],\n",
        "    'tongue': ['😋', '😜', '🤪'],\n",
        "    'hands': ['🤗', '🤭', '🫢', '🫣', '🤫','🤲','👐','🤚','🙋'],\n",
        "    'skeptical': ['😒', '🙄', '😬', '😮‍💨', '🤥','🤨','🙎','🙎‍♀️'],\n",
        "    'sleepy': ['😪', '😴'],\n",
        "    'unwell': ['😷', '🤒', '🤕', '🤢', '🤮','😵‍💫','🤧'],\n",
        "    'joy': ['😈', '👿', '🤡', '👻', '👽','🤖','👾','💀'],\n",
        "    'doctor': ['🧑‍⚕️', '👨‍⚕️', '👩‍⚕️','👨🏼‍⚕️'],\n",
        "    'student': ['🧑‍🎓', '👨‍🎓', '👩‍🎓','🧑🏾‍🎓','👨‍💼','👩‍💼'],\n",
        "    'farmer': ['🧑‍🌾', '👨‍🌾', '👩‍🌾','🧑🏻‍🌾','👩🏽‍🌾'],\n",
        "    'cook': ['🧑‍🍳', '👨‍🍳', '👩‍🍳','🧑🏿‍🍳'],\n",
        "    'fruit': ['🍇', '🍈', '🍉', '🍊', '🍋','🍌','🍐','🍎','🍓','🍒','🍍'],\n",
        "    'vegetable': ['🍆', '🥔', '🥕', '🌽', '🌶️','🧅','🥦','🫛'],\n",
        "    'dessert': ['🍧', '🍨', '🍩', '🍪', '🎂','🍭','🍫','🍬'],\n",
        "    'drink': ['🍾', '🍷', '🍺', '🥂', '🫙','🧋','🍹'],\n",
        "    'award': ['🎖️', '🏆', '🏅', '🥇', '🥉'],\n",
        "    'geography': ['🌍', '🌎', '🏔️', '⛰️', '🌋','🌄','🌅','🏕️','🌐','🗺️'],\n",
        "\n",
        "}\n",
        "\n",
        "emoji_test = {\n",
        "\n",
        "    'happy': ['🙂', '😄'],\n",
        "    'angry':['😠', '😡'],\n",
        "    'disgust':['😒', '🤮'],\n",
        "    'fear':['😣'],\n",
        "    'neutral': ['🤨', '😐'],\n",
        "    'sad':['😞', '😭'],\n",
        "    'surprise':['😯'],\n",
        "    'affectionate': ['🧡','💛','❤️', '😍'],\n",
        "    'tongue': ['😛', '😝'],\n",
        "    'hands': ['✋','🖐️'],\n",
        "    'skeptical': ['🙎‍♂️'],\n",
        "    'sleepy': ['💤','🥱'],\n",
        "    'unwell': ['🥴'],\n",
        "    'joy': ['☠️'],\n",
        "    'doctor': ['🧑🏿‍⚕️','👩🏿‍⚕️','👩🏻‍⚕️'],\n",
        "    'student': ['👩🏼‍💼','🧑🏻‍🎓'],\n",
        "    'farmer': ['🧑🏽‍🌾','👨🏿‍🌾'],\n",
        "    'cook':['👩🏻‍🍳','👨🏽‍🍳'],\n",
        "    'fruit': ['🍏','🥭','🍅'],\n",
        "    'vegetable': ['🥬'],\n",
        "    'dessert': ['🧁','🥧','🍦'],\n",
        "    'drink': ['🍻','🥤', '🧃'],\n",
        "    'award': ['🥈'],\n",
        "    'geography': ['🏞️','⛺','🌏'],\n",
        "\n",
        "}\n",
        "\n",
        "print(\"Number of classes: \" + str(len(emoji_train)))\n",
        "print(\"Estimated Probability of guessing at random:\", 1/len(emoji_train)*100, \"%\")\n",
        "print(len(emoji_train) == len(emoji_test))"
      ],
      "metadata": {
        "colab": {
          "base_uri": "https://localhost:8080/"
        },
        "id": "tBjm0bebbsN3",
        "outputId": "94e7f2ad-17b6-4d65-c63a-3c5a183c5a3b"
      },
      "execution_count": 3,
      "outputs": [
        {
          "output_type": "stream",
          "name": "stdout",
          "text": [
            "Number of classes: 24\n",
            "Estimated Probability of guessing at random: 4.166666666666666 %\n",
            "True\n"
          ]
        }
      ]
    },
    {
      "cell_type": "code",
      "source": [
        "# Transforming the Unicode emojis into Images\n",
        "def transform(data):\n",
        "\n",
        "  for k, v in data.items():\n",
        "\n",
        "    for i in range(len(v)):\n",
        "      v[i] = emoji_to_image(v[i])\n"
      ],
      "metadata": {
        "id": "4CbUfS4OfRUJ"
      },
      "execution_count": 4,
      "outputs": []
    },
    {
      "cell_type": "code",
      "source": [
        "transform(emoji_train)\n",
        "transform(emoji_test)"
      ],
      "metadata": {
        "id": "ZrL-K-GZf24W"
      },
      "execution_count": 5,
      "outputs": []
    },
    {
      "cell_type": "code",
      "source": [
        "# Add training data from Emoji Kitchen\n",
        "src = 'SmallDataset/train'\n",
        "folders = os.listdir(src)\n",
        "\n",
        "for folder in folders:\n",
        "    folder_path = os.path.join(src, folder)\n",
        "\n",
        "    if os.path.isdir(folder_path):\n",
        "\n",
        "        image_files = os.listdir(folder_path)\n",
        "        for image_file in image_files:\n",
        "            # Add gray images\n",
        "            image_path = os.path.join(folder_path, image_file)\n",
        "            img = cv2.imread(image_path, cv2.IMREAD_COLOR)[..., ::-1]\n",
        "            img = cv2.resize(img, (80, 80), interpolation=cv2.INTER_AREA)\n",
        "            gray = cv2.cvtColor(img, cv2.COLOR_RGB2GRAY)\n",
        "\n",
        "            emoji_train[folder].append(gray)\n",
        "\n",
        ""
      ],
      "metadata": {
        "id": "Tbyhp_5jZm6f"
      },
      "execution_count": 6,
      "outputs": []
    },
    {
      "cell_type": "code",
      "source": [
        "def show(image):\n",
        "  image = image.reshape((80,80))\n",
        "  cv2_imshow(image)"
      ],
      "metadata": {
        "id": "yWaCbD_7vf_S"
      },
      "execution_count": 7,
      "outputs": []
    },
    {
      "cell_type": "markdown",
      "source": [
        "## Understanding the Data"
      ],
      "metadata": {
        "id": "3AEn_oZf6Cbg"
      }
    },
    {
      "cell_type": "markdown",
      "source": [
        "### TSNE"
      ],
      "metadata": {
        "id": "cVt9H-cjRxoT"
      }
    },
    {
      "cell_type": "code",
      "source": [
        "## visualize images in feature space using t-SNE with IDs and Labels for image\n",
        "\n",
        "sns.set(rc={'figure.figsize':(8,6)})\n",
        "palette = sns.color_palette(\"hls\", len(emoji_train))\n",
        "\n",
        "features = []\n",
        "labels = []\n",
        "for k in emoji_train.keys():\n",
        "  for v in emoji_train[k]:\n",
        "    features.append(v.flatten())\n",
        "    labels.append(k)\n",
        "\n",
        "features = np.array(features)\n",
        "labels = np.array(labels)\n",
        "# labels = np.array([k for k in emoji_train.keys()])\n",
        "\n",
        "tsne = TSNE()\n",
        "X_embedded = tsne.fit_transform(features)\n",
        "plot = sns.scatterplot(x=X_embedded[:,0], y=X_embedded[:,1], hue=labels, legend=False, palette=palette)\n",
        "\n",
        "# Add centroid label to each class\n",
        "\n",
        "# Calculate class centroids\n",
        "class_centroids = {}\n",
        "for label in np.unique(labels):\n",
        "  i = np.where(labels == label)[0]\n",
        "  class_centroid = np.mean(X_embedded[i], axis=0)\n",
        "  class_centroids[label] = class_centroid\n",
        "\n",
        "# Add labels for each class centroid\n",
        "for label, centroid in class_centroids.items():\n",
        "  plot.text(centroid[0], centroid[1], label, ha='center', va='center', fontsize=10, fontweight='bold')\n",
        "\n",
        "plt.show()"
      ],
      "metadata": {
        "colab": {
          "base_uri": "https://localhost:8080/",
          "height": 527
        },
        "id": "fTNzCnKQ6Eyx",
        "outputId": "3501c32b-7a48-4d2e-8c5f-77bded2b58ab"
      },
      "execution_count": 8,
      "outputs": [
        {
          "output_type": "display_data",
          "data": {
            "text/plain": [
              "<Figure size 800x600 with 1 Axes>"
            ],
            "image/png": "[encoded data removed]"
          },
          "metadata": {}
        }
      ]
    },
    {
      "cell_type": "markdown",
      "source": [
        "# Task 2\n",
        "Design methods to extract features from emojis and consider whether there are better feature extraction methods. (10 marks)"
      ],
      "metadata": {
        "id": "-ShhnZn7-E-6"
      }
    },
    {
      "cell_type": "markdown",
      "source": [
        "## Preprocess Emojis"
      ],
      "metadata": {
        "id": "MvTeuWe_7fod"
      }
    },
    {
      "cell_type": "code",
      "source": [
        "# Circle LBP\n",
        "\n",
        "def circle_LBP (img: np.array, r: int, p:int):\n",
        "    \"\"\" circle_LBP algorithm\n",
        "\n",
        "    Params:\n",
        "        img:\n",
        "            An image with size of H x W.\n",
        "        r:\n",
        "            The radius of circle, e.g., 3\n",
        "        p:\n",
        "            The number of sampling points, e.g., 8\n",
        "    \"\"\"\n",
        "\n",
        "    # img = img.reshape((64,64))\n",
        "    h, w = img.shape\n",
        "    dst = np.zeros((h, w), dtype=img.dtype)\n",
        "\n",
        "    for i in range(r, h-r):\n",
        "      for j in range(r, w-r):\n",
        "        LBP_str = []\n",
        "        for k in range(p):\n",
        "\n",
        "            # STEP 1:\n",
        "            rx = i + r*np.cos(2*np.pi*k/p)\n",
        "            ry = j - r*np.sin(2*np.pi*k/p)\n",
        "\n",
        "            # STEP 2:\n",
        "            x0 = int(np.floor(rx))\n",
        "            x1 = int(np.ceil(rx))\n",
        "            y0 = int(np.floor(ry))\n",
        "            y1 = int(np.ceil(ry))\n",
        "\n",
        "            # STEP 3:\n",
        "            f00 = img[x0, y0]\n",
        "            f01 = img[x0, y1]\n",
        "            f10 = img[x1, y0]\n",
        "            f11 = img[x1, y1]\n",
        "            w1 = x1 - rx\n",
        "            w2 = rx - x0\n",
        "            w3 = y1 - ry\n",
        "            w4 = ry - y0\n",
        "            fxy = w3*(w1*f00 + w2*f10) + w4*(w1*f01+w2*f11)\n",
        "\n",
        "            # STEP 4:\n",
        "            if fxy >= img[i, j]:\n",
        "                LBP_str.append(1)\n",
        "            else:\n",
        "                LBP_str.append(0)\n",
        "        LBP_str = ''.join(str(id) for id in LBP_str)\n",
        "        dst[i, j] = int(LBP_str, 2)\n",
        "\n",
        "    return dst\n"
      ],
      "metadata": {
        "id": "ailKMj39qzCs"
      },
      "execution_count": 9,
      "outputs": []
    },
    {
      "cell_type": "code",
      "source": [
        "# sobel\n",
        "def sobel(img):\n",
        "  sobel_x = cv2.Sobel(img, cv2.CV_64F, 1, 0, ksize=3)\n",
        "  sobel_y = cv2.Sobel(img, cv2.CV_64F, 0, 1, ksize=3)\n",
        "  sobel = np.absolute(sobel_x) + np.absolute(sobel_y)\n",
        "  sobel = (255-sobel)\n",
        "  return sobel\n",
        "\n",
        "# Laplacian\n",
        "def laplacian(img):\n",
        "  laplacian = cv2.Laplacian(img, cv2.CV_64F).astype(np.uint8)\n",
        "  laplacian = (255-laplacian)\n",
        "  return laplacian\n",
        "\n",
        "# hog\n",
        "kernel = np.ones((3, 3), np.uint8)\n",
        "def ihog(img):\n",
        "  _, hogim = hog(img, orientations=8, pixels_per_cell=(16, 16), cells_per_block=(1, 1), visualize=True, channel_axis=-1, multichannel=False)\n",
        "  hogim = (255-hogim)\n",
        "  return hogim"
      ],
      "metadata": {
        "id": "XkLzAHT128Tk"
      },
      "execution_count": 11,
      "outputs": []
    },
    {
      "cell_type": "code",
      "source": [],
      "metadata": {
        "id": "QFmeAmXA3MLi"
      },
      "execution_count": 12,
      "outputs": []
    },
    {
      "cell_type": "code",
      "source": [
        "# 🙂\n",
        "t = emoji_to_image('🍌')\n",
        "show(t)\n",
        "\n",
        "show(sobel(t))\n",
        "\n",
        "show(laplacian(t))\n",
        "\n",
        "show(circle_LBP(t, r=3, p=8))\n",
        "\n",
        "show(ihog(t))\n",
        "\n"
      ],
      "metadata": {
        "colab": {
          "base_uri": "https://localhost:8080/",
          "height": 552
        },
        "id": "lHEO-NNAqaLK",
        "outputId": "3fea4fd2-0697-46fb-a495-043657cb680b"
      },
      "execution_count": 13,
      "outputs": [
        {
          "output_type": "display_data",
          "data": {
            "text/plain": [
              "<PIL.Image.Image image mode=L size=80x80>"
            ],
            "image/png": "[encoded data removed]"
          },
          "metadata": {}
        },
        {
          "output_type": "display_data",
          "data": {
            "text/plain": [
              "<PIL.Image.Image image mode=L size=80x80>"
            ],
            "image/png": "[encoded data removed]"
          },
          "metadata": {}
        },
        {
          "output_type": "display_data",
          "data": {
            "text/plain": [
              "<PIL.Image.Image image mode=L size=80x80>"
            ],
            "image/png": "[encoded data removed]"
          },
          "metadata": {}
        },
        {
          "output_type": "display_data",
          "data": {
            "text/plain": [
              "<PIL.Image.Image image mode=L size=80x80>"
            ],
            "image/png": "[encoded data removed]"
          },
          "metadata": {}
        },
        {
          "output_type": "stream",
          "name": "stderr",
          "text": [
            "<ipython-input-12-6bc02320e78f>:4: FutureWarning: `multichannel` is a deprecated argument name for `hog`. It will be removed in version 1.0. Please use `channel_axis` instead.\n",
            "  _, hogim = hog(img, orientations=8, pixels_per_cell=(16, 16), cells_per_block=(1, 1), visualize=True, channel_axis=-1, multichannel=False)\n"
          ]
        },
        {
          "output_type": "display_data",
          "data": {
            "text/plain": [
              "<PIL.Image.Image image mode=L size=80x80>"
            ],
            "image/png": "[encoded data removed]"
          },
          "metadata": {}
        },
        {
          "output_type": "display_data",
          "data": {
            "text/plain": [
              "<PIL.Image.Image image mode=L size=80x80>"
            ],
            "image/png": "[encoded data removed]"
          },
          "metadata": {}
        }
      ]
    },
    {
      "cell_type": "markdown",
      "source": [
        "## Preprocess Function"
      ],
      "metadata": {
        "id": "E6WmX0QqcOU9"
      }
    },
    {
      "cell_type": "code",
      "source": [
        "def preprocess(data):\n",
        "\n",
        "  x = []\n",
        "\n",
        "  for img in data:\n",
        "\n",
        "        # Extract different features\n",
        "\n",
        "        # Sobel filter\n",
        "        sobelim = sobel(img).flatten()\n",
        "        img_array = sobelim\n",
        "\n",
        "        # Laplacian\n",
        "        laplacianim = laplacian(img).flatten()\n",
        "        img_array = np.hstack((img_array, laplacianim))\n",
        "\n",
        "        # LBP\n",
        "        LBP = circle_LBP(img, r=3, p=8).flatten()\n",
        "        img_array = np.hstack((img_array, LBP))\n",
        "\n",
        "        # Hog\n",
        "        hogim = ihog(img).flatten()\n",
        "        img_array = np.hstack((img_array, hogim))\n",
        "\n",
        "        x.append(img_array)\n",
        "\n",
        "  return np.array(x)"
      ],
      "metadata": {
        "id": "u2UMLWnTcK17"
      },
      "execution_count": 14,
      "outputs": []
    },
    {
      "cell_type": "markdown",
      "source": [
        "## Extract Features"
      ],
      "metadata": {
        "id": "8WR0YSUvqxfc"
      }
    },
    {
      "cell_type": "markdown",
      "source": [
        "### Function for separating x, y labels"
      ],
      "metadata": {
        "id": "JdKahx6he3fS"
      }
    },
    {
      "cell_type": "code",
      "source": [
        "def features(data):\n",
        "  # flatten images for training model\n",
        "  # Add preprocessing here\n",
        "\n",
        "  x = []\n",
        "  y = []\n",
        "\n",
        "  for k, v in data.items():\n",
        "\n",
        "    for i in v:\n",
        "\n",
        "      x.append(i)\n",
        "      y.append(k)\n",
        "\n",
        "  x = np.array(x)\n",
        "  y = np.array(y)\n",
        "\n",
        "  return x, y\n",
        "\n",
        "x_train, y_train = features(emoji_train)\n",
        "x_train = preprocess(x_train)"
      ],
      "metadata": {
        "id": "Zj48uS_j7hRg",
        "colab": {
          "base_uri": "https://localhost:8080/"
        },
        "outputId": "09bfbf92-763f-47e2-e8bd-596f48cd2f0a"
      },
      "execution_count": 15,
      "outputs": [
        {
          "output_type": "stream",
          "name": "stderr",
          "text": [
            "<ipython-input-12-6bc02320e78f>:4: FutureWarning: `multichannel` is a deprecated argument name for `hog`. It will be removed in version 1.0. Please use `channel_axis` instead.\n",
            "  _, hogim = hog(img, orientations=8, pixels_per_cell=(16, 16), cells_per_block=(1, 1), visualize=True, channel_axis=-1, multichannel=False)\n"
          ]
        }
      ]
    },
    {
      "cell_type": "markdown",
      "source": [
        "# Task 3\n",
        "Train a classifier for emoji classification. Consider how to validate the classifier to improve the test performance further. (20 marks)\n"
      ],
      "metadata": {
        "id": "-4CDaqm_--nk"
      }
    },
    {
      "cell_type": "markdown",
      "source": [
        "## Model Creation and Training"
      ],
      "metadata": {
        "id": "af-FqMSE7jZX"
      }
    },
    {
      "cell_type": "markdown",
      "source": [
        "### Define the model"
      ],
      "metadata": {
        "id": "GgS7x-jhbFqr"
      }
    },
    {
      "cell_type": "code",
      "source": [
        "# Define the classifier and cross-validation settings\n",
        "model = SVC()"
      ],
      "metadata": {
        "id": "L15CLk7-7kw9"
      },
      "execution_count": 16,
      "outputs": []
    },
    {
      "cell_type": "markdown",
      "source": [
        "### Grid Search with Cross-Validation"
      ],
      "metadata": {
        "id": "wmHW3oUXbM5Y"
      }
    },
    {
      "cell_type": "code",
      "source": [
        "# Grid Search and CrossValidation\n",
        "\n",
        "# Define the parameter grid for hyperparameter search\n",
        "param_grid = {\n",
        "  'C': [0.01, 0.1, 1, 10],  # Regularization parameter\n",
        "  'kernel': ['linear', 'rbf'],  # Kernel options\n",
        "  'gamma': [0.1, 0.01, 0.001],\n",
        "}\n",
        "\n",
        "kfold = KFold(n_splits=5, shuffle=True)  # 5-fold cross-validation with shuffling\n",
        "\n",
        "# Perform grid search with cross-validation\n",
        "grid_search = GridSearchCV(estimator=model, param_grid=param_grid, cv=kfold, scoring='accuracy')\n",
        "grid_search.fit(x_train, y_train)\n",
        "\n",
        "# Get the best model\n",
        "model = grid_search.best_estimator_"
      ],
      "metadata": {
        "id": "wmGkG-7obT7P"
      },
      "execution_count": 17,
      "outputs": []
    },
    {
      "cell_type": "code",
      "source": [
        "print(grid_search.cv_results_['mean_test_score'])\n",
        "print(model.get_params())\n",
        "print(model)"
      ],
      "metadata": {
        "id": "Xa_i48nKzI4S",
        "colab": {
          "base_uri": "https://localhost:8080/"
        },
        "outputId": "20d8cab8-744c-46e3-fd6b-d2af9e32c7b2"
      },
      "execution_count": 70,
      "outputs": [
        {
          "output_type": "stream",
          "name": "stdout",
          "text": [
            "[0.4922619  0.0437996  0.4922619  0.0437996  0.4922619  0.0437996\n",
            " 0.4922619  0.0437996  0.4922619  0.0437996  0.4922619  0.0437996\n",
            " 0.4922619  0.10962302 0.4922619  0.10962302 0.4922619  0.10962302\n",
            " 0.4922619  0.10962302 0.4922619  0.10962302 0.4922619  0.10962302]\n",
            "{'C': 0.01, 'break_ties': False, 'cache_size': 200, 'class_weight': None, 'coef0': 0.0, 'decision_function_shape': 'ovr', 'degree': 3, 'gamma': 0.1, 'kernel': 'linear', 'max_iter': -1, 'probability': False, 'random_state': None, 'shrinking': True, 'tol': 0.001, 'verbose': False}\n",
            "SVC(C=0.01, gamma=0.1, kernel='linear')\n"
          ]
        }
      ]
    },
    {
      "cell_type": "markdown",
      "source": [
        "# Task 4\n",
        "Test the classifier using emojis created by Emoji Kitchen that are unseen in the training and validation processes. (10 marks)"
      ],
      "metadata": {
        "id": "ToID3epa_Cm-"
      }
    },
    {
      "cell_type": "markdown",
      "source": [
        "## Get the Test Data"
      ],
      "metadata": {
        "id": "YmvZSypTbarH"
      }
    },
    {
      "cell_type": "code",
      "source": [
        "# Get features from the dataset\n",
        "x_test, y_test = features(emoji_test)\n",
        "x_test = preprocess(x_test)"
      ],
      "metadata": {
        "id": "rwrH2JNMnBJg",
        "colab": {
          "base_uri": "https://localhost:8080/"
        },
        "outputId": "509b4f7d-0d0a-40c1-bf9a-a4bf2fbae808"
      },
      "execution_count": 19,
      "outputs": [
        {
          "output_type": "stream",
          "name": "stderr",
          "text": [
            "<ipython-input-12-6bc02320e78f>:4: FutureWarning: `multichannel` is a deprecated argument name for `hog`. It will be removed in version 1.0. Please use `channel_axis` instead.\n",
            "  _, hogim = hog(img, orientations=8, pixels_per_cell=(16, 16), cells_per_block=(1, 1), visualize=True, channel_axis=-1, multichannel=False)\n"
          ]
        }
      ]
    },
    {
      "cell_type": "markdown",
      "source": [
        "## Prediction and Accuracy"
      ],
      "metadata": {
        "id": "ysGzsNlybd0_"
      }
    },
    {
      "cell_type": "code",
      "source": [
        "# predict on the test set\n",
        "y_pred = model.predict(x_test)\n",
        "\n",
        "# calculate accuracy.\n",
        "accuracy = accuracy_score(y_test, y_pred)\n",
        "print(f'Accuracy: {accuracy * 100:.2f}%')\n"
      ],
      "metadata": {
        "id": "K37HWbFMYEQG",
        "colab": {
          "base_uri": "https://localhost:8080/"
        },
        "outputId": "82fc94e5-45e1-4214-b6e2-00e1517a4a9a"
      },
      "execution_count": 20,
      "outputs": [
        {
          "output_type": "stream",
          "name": "stdout",
          "text": [
            "Accuracy: 60.42%\n"
          ]
        }
      ]
    },
    {
      "cell_type": "markdown",
      "source": [
        "## Log of results with different approaches\n",
        "\n",
        "* SVM with hog and LBP: 55.26%\n",
        "* Accuracy with small training data, with hog and LBP: 47.92%\n",
        "* Accuracy imitating a CNN: 60.42%"
      ],
      "metadata": {
        "id": "VyZFebZAbl7v"
      }
    },
    {
      "cell_type": "markdown",
      "source": [
        "### Error Checking"
      ],
      "metadata": {
        "id": "jDdFqaa7bunA"
      }
    },
    {
      "cell_type": "code",
      "source": [
        "# Error check\n",
        "error = [(true, pred) for true, pred in zip(y_test, y_pred) if pred != true]\n",
        "print(error)"
      ],
      "metadata": {
        "colab": {
          "base_uri": "https://localhost:8080/"
        },
        "id": "6Q1vHPYRuMRr",
        "outputId": "55408972-5bf0-45ba-f60a-f6f4bc004dbc"
      },
      "execution_count": 55,
      "outputs": [
        {
          "output_type": "stream",
          "name": "stdout",
          "text": [
            "[('angry', 'sad'), ('angry', 'sad'), ('disgust', 'skeptical'), ('disgust', 'unwell'), ('fear', 'skeptical'), ('neutral', 'skeptical'), ('hands', 'geography'), ('hands', 'dessert'), ('sleepy', 'vegetable'), ('sleepy', 'affectionate'), ('unwell', 'disgust'), ('joy', 'happy'), ('fruit', 'hands'), ('vegetable', 'geography'), ('dessert', 'drink'), ('dessert', 'fruit'), ('drink', 'affectionate'), ('drink', 'fruit'), ('geography', 'joy')]\n"
          ]
        }
      ]
    },
    {
      "cell_type": "markdown",
      "source": [
        "# Task 5\n",
        "Test the model using human face emotions datasets, such as the face expression dataset from Kaggle, or sketches of facial emotions that you convert from digital portrait images. Consider how to improve the classifier's performance on the new kind of data. (10 marks)"
      ],
      "metadata": {
        "id": "wPTG17c__HtO"
      }
    },
    {
      "cell_type": "markdown",
      "source": [
        "## Read Human Faces Emotion dataset"
      ],
      "metadata": {
        "id": "VBZjErBqb5Jh"
      }
    },
    {
      "cell_type": "code",
      "source": [
        "# Read the data\n",
        "\n",
        "src = 'FaceExpression/validation'\n",
        "folders = os.listdir(src)\n",
        "\n",
        "x_test = []\n",
        "y_test = []\n",
        "\n",
        "\n",
        "\n",
        "for folder in folders:\n",
        "    folder_path = os.path.join(src, folder)\n",
        "    if os.path.isdir(folder_path):\n",
        "        image_files = os.listdir(folder_path)\n",
        "        c = 0\n",
        "        for image_file in image_files:\n",
        "\n",
        "            if c == 100:  # To avoid dealing with long time\n",
        "              break\n",
        "\n",
        "            image_path = os.path.join(folder_path, image_file)\n",
        "            img = cv2.imread(image_path, cv2.IMREAD_COLOR)[..., ::-1]\n",
        "            img = cv2.resize(img, (80, 80), interpolation=cv2.INTER_AREA)\n",
        "            gray = cv2.cvtColor(img, cv2.COLOR_RGB2GRAY)\n",
        "\n",
        "            x_test.append(gray)\n",
        "            y_test.append(folder)\n",
        "            c += 1\n",
        "\n",
        "x_test = np.array(x_test)\n",
        "y_test = np.array(y_test)\n",
        "\n",
        "print(\"Number of samples for face dataset:\", len(x_test))\n",
        "\n",
        "x_test = preprocess(x_test)\n"
      ],
      "metadata": {
        "id": "H7JdflaD_Pup",
        "colab": {
          "base_uri": "https://localhost:8080/"
        },
        "outputId": "cba36880-2d1e-45a6-a5aa-f8b1c02330fd"
      },
      "execution_count": 56,
      "outputs": [
        {
          "output_type": "stream",
          "name": "stdout",
          "text": [
            "Number of samples for face dataset: 679\n"
          ]
        },
        {
          "output_type": "stream",
          "name": "stderr",
          "text": [
            "<ipython-input-38-6bc02320e78f>:4: FutureWarning: `multichannel` is a deprecated argument name for `hog`. It will be removed in version 1.0. Please use `channel_axis` instead.\n",
            "  _, hogim = hog(img, orientations=8, pixels_per_cell=(16, 16), cells_per_block=(1, 1), visualize=True, channel_axis=-1, multichannel=False)\n"
          ]
        }
      ]
    },
    {
      "cell_type": "code",
      "source": [
        "x_test.shape"
      ],
      "metadata": {
        "colab": {
          "base_uri": "https://localhost:8080/"
        },
        "id": "ER7ZAMJb-5xt",
        "outputId": "c4857982-2ebc-4fda-fa2f-cefc18004931"
      },
      "execution_count": 57,
      "outputs": [
        {
          "output_type": "execute_result",
          "data": {
            "text/plain": [
              "(679, 32000)"
            ]
          },
          "metadata": {},
          "execution_count": 57
        }
      ]
    },
    {
      "cell_type": "code",
      "source": [
        "# predict on the human faces dataset set.\n",
        "y_pred = model.predict(x_test)\n",
        "\n",
        "# calculate accuracy.\n",
        "accuracy = accuracy_score(y_test, y_pred)\n",
        "print(f'Accuracy: {accuracy * 100:.2f}%')\n"
      ],
      "metadata": {
        "colab": {
          "base_uri": "https://localhost:8080/"
        },
        "id": "8cAazQn02i6W",
        "outputId": "9691cf1e-6eb5-4a97-d190-4b0ef62b8856"
      },
      "execution_count": 58,
      "outputs": [
        {
          "output_type": "stream",
          "name": "stdout",
          "text": [
            "Accuracy: 0.00%\n"
          ]
        }
      ]
    },
    {
      "cell_type": "code",
      "source": [
        "from collections import Counter\n",
        "# Error check\n",
        "error = [(true, pred) for true, pred in zip(y_test, y_pred) if pred != true]\n",
        "c = Counter(error)\n",
        "print(c)\n",
        "\n",
        "img = cv2.imread(image_path, cv2.IMREAD_COLOR)[..., ::-1]\n",
        "img = cv2.resize(img, (80, 80), interpolation=cv2.INTER_AREA)\n",
        "gray = cv2.cvtColor(img, cv2.COLOR_RGB2GRAY)\n",
        "show(sobel(gray))\n",
        "\n",
        "show(sobel(emoji_to_image('🤗')))\n",
        "show(sobel(emoji_to_image('🤲')))"
      ],
      "metadata": {
        "colab": {
          "base_uri": "https://localhost:8080/",
          "height": 294
        },
        "id": "6tL3p73IJ_ZH",
        "outputId": "8b25b4b8-d1e7-42f9-e07b-7355493a0006"
      },
      "execution_count": 66,
      "outputs": [
        {
          "output_type": "stream",
          "name": "stdout",
          "text": [
            "Counter({('happy', 'hands'): 91, ('surprise', 'hands'): 90, ('angry', 'hands'): 90, ('fear', 'hands'): 89, ('sad', 'hands'): 88, ('neutral', 'hands'): 87, ('disgust', 'hands'): 76, ('neutral', 'award'): 11, ('angry', 'award'): 10, ('sad', 'award'): 10, ('fear', 'award'): 10, ('surprise', 'award'): 9, ('happy', 'award'): 6, ('disgust', 'award'): 3, ('happy', 'affectionate'): 2, ('surprise', 'sad'): 1, ('happy', 'vegetable'): 1, ('neutral', 'happy'): 1, ('neutral', 'sad'): 1, ('sad', 'vegetable'): 1, ('sad', 'dessert'): 1, ('fear', 'affectionate'): 1})\n"
          ]
        },
        {
          "output_type": "display_data",
          "data": {
            "text/plain": [
              "<PIL.Image.Image image mode=L size=80x80>"
            ],
            "image/png": "[encoded data removed]"
          },
          "metadata": {}
        },
        {
          "output_type": "display_data",
          "data": {
            "text/plain": [
              "<PIL.Image.Image image mode=L size=80x80>"
            ],
            "image/png": "[encoded data removed]"
          },
          "metadata": {}
        },
        {
          "output_type": "display_data",
          "data": {
            "text/plain": [
              "<PIL.Image.Image image mode=L size=80x80>"
            ],
            "image/png": "[encoded data removed]"
          },
          "metadata": {}
        }
      ]
    },
    {
      "cell_type": "markdown",
      "source": [
        "Possible Improvements:\n",
        "For improvement: Sift and using other dataset for training\n",
        "\n"
      ],
      "metadata": {
        "id": "lFfPBA1n2ke3"
      }
    }
  ]
}